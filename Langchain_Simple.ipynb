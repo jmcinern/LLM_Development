{
  "nbformat": 4,
  "nbformat_minor": 0,
  "metadata": {
    "colab": {
      "provenance": [],
      "authorship_tag": "ABX9TyORZLkPwC4llLoY+ZCm2DCD",
      "include_colab_link": true
    },
    "kernelspec": {
      "name": "python3",
      "display_name": "Python 3"
    },
    "language_info": {
      "name": "python"
    }
  },
  "cells": [
    {
      "cell_type": "markdown",
      "metadata": {
        "id": "view-in-github",
        "colab_type": "text"
      },
      "source": [
        "<a href=\"https://colab.research.google.com/github/jmcinern/LLM_Development/blob/Langchain/Langchain_Simple.ipynb\" target=\"_parent\"><img src=\"https://colab.research.google.com/assets/colab-badge.svg\" alt=\"Open In Colab\"/></a>"
      ]
    },
    {
      "cell_type": "markdown",
      "source": [
        "# Simple Project testing Langchain"
      ],
      "metadata": {
        "id": "a81TEsql9ls3"
      }
    },
    {
      "cell_type": "markdown",
      "source": [
        "## Set up"
      ],
      "metadata": {
        "id": "vNIUAmcT9p_L"
      }
    },
    {
      "cell_type": "code",
      "source": [
        "!pip install -qU  langchain python-dotenv openai langchain_community\n",
        "import os\n",
        "import openai\n",
        "import langchain\n",
        "from getpass import getpass\n",
        "\n",
        "# prompt user for OpenAI key\n",
        "os.environ['OPENAI_KEY'] = getpass('Enter your OpenAI API key: ')\n",
        "openai.api_key = os.getenv('OPENAI_KEY')\n"
      ],
      "metadata": {
        "colab": {
          "base_uri": "https://localhost:8080/"
        },
        "id": "Is94J-XE3yQ4",
        "outputId": "d02f91ce-d5d3-4e1a-b7c8-5521590504f9"
      },
      "execution_count": 6,
      "outputs": [
        {
          "name": "stdout",
          "output_type": "stream",
          "text": [
            "Enter your OpenAI API key: ··········\n"
          ]
        }
      ]
    },
    {
      "cell_type": "markdown",
      "source": [
        "## Model"
      ],
      "metadata": {
        "id": "-6F_dazI9vTc"
      }
    },
    {
      "cell_type": "code",
      "source": [
        "from langchain.chat_models import ChatOpenAI\n",
        "\n",
        "# Initialize OpenAI LLM with a temperature of 0.9 for randomness\n",
        "llm = ChatOpenAI(\n",
        "    model_name=\"gpt-4.1-nano\",\n",
        "    temperature=0.9,\n",
        "    openai_api_key=OPENAI_KEY)"
      ],
      "metadata": {
        "id": "KLVpQXZw9yAE"
      },
      "execution_count": 7,
      "outputs": []
    },
    {
      "cell_type": "markdown",
      "source": [
        "## Chat Template\n",
        "- Set model up to respond in Irish."
      ],
      "metadata": {
        "id": "dWFPeMCQD59r"
      }
    },
    {
      "cell_type": "code",
      "source": [
        "from langchain_core.prompts import ChatPromptTemplate\n",
        "\n",
        "prompt = ChatPromptTemplate(\n",
        "    [\n",
        "    (\"system\",\"you are a monolingual Irish chatbot, your job is to respond to the users questions in Irish (Gaeilge)\"),\n",
        "    (\"human\", \"What's the capital of Ireland\"),\n",
        "    (\"ai\", \"Is é Báile Áithe Cliath príomhceathair na hEireann\"),\n",
        "    (\"human\", \"{user_input}\")\n",
        "    ]\n",
        ")"
      ],
      "metadata": {
        "id": "mpPM6sxGDCPP"
      },
      "execution_count": 3,
      "outputs": []
    },
    {
      "cell_type": "code",
      "source": [
        "chain = prompt | llm"
      ],
      "metadata": {
        "id": "-nxhV3AIEBNA"
      },
      "execution_count": 4,
      "outputs": []
    },
    {
      "cell_type": "code",
      "source": [
        "response = chain.invoke({\"user_input\": \"What's the capital of America\"})\n",
        "print(response.content)"
      ],
      "metadata": {
        "colab": {
          "base_uri": "https://localhost:8080/"
        },
        "id": "GL__GyH5Ecar",
        "outputId": "f6672290-1186-4adf-c6c2-39d57f738cde"
      },
      "execution_count": 5,
      "outputs": [
        {
          "output_type": "stream",
          "name": "stdout",
          "text": [
            "Is é Washington, D.C. príomhchathair na Stáit Aontaithe.\n"
          ]
        }
      ]
    }
  ]
}