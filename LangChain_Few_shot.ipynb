{
  "nbformat": 4,
  "nbformat_minor": 0,
  "metadata": {
    "colab": {
      "provenance": [],
      "toc_visible": true,
      "authorship_tag": "ABX9TyMZw4R9PX0/Y6Yju+/wdhwN",
      "include_colab_link": true
    },
    "kernelspec": {
      "name": "python3",
      "display_name": "Python 3"
    },
    "language_info": {
      "name": "python"
    }
  },
  "cells": [
    {
      "cell_type": "markdown",
      "metadata": {
        "id": "view-in-github",
        "colab_type": "text"
      },
      "source": [
        "<a href=\"https://colab.research.google.com/github/jmcinern/LLM_Development/blob/Langchain/LangChain_Few_shot.ipynb\" target=\"_parent\"><img src=\"https://colab.research.google.com/assets/colab-badge.svg\" alt=\"Open In Colab\"/></a>"
      ]
    },
    {
      "cell_type": "markdown",
      "source": [
        "# LangChain - Building from prompt template to introduce few-shot prompting"
      ],
      "metadata": {
        "id": "ynqNGsA9hBg4"
      }
    },
    {
      "cell_type": "markdown",
      "source": [
        "**- Comparing models Irish langugae ability, smaller models (GPT nano), state of the art model (GPT-4.5) and few-shot prompting (GPT nano).**"
      ],
      "metadata": {
        "id": "uAJv5pPe_PUC"
      }
    },
    {
      "cell_type": "markdown",
      "source": [
        "## Set up"
      ],
      "metadata": {
        "id": "6__OLyuQpUn-"
      }
    },
    {
      "cell_type": "markdown",
      "source": [
        "- Install necessary packages"
      ],
      "metadata": {
        "id": "zD1s64ZChORr"
      }
    },
    {
      "cell_type": "code",
      "execution_count": 2,
      "metadata": {
        "colab": {
          "base_uri": "https://localhost:8080/"
        },
        "id": "nvewzyRqgaqU",
        "outputId": "f378774c-91b6-4398-fc51-48e5380694f1"
      },
      "outputs": [
        {
          "output_type": "stream",
          "name": "stdout",
          "text": [
            "\u001b[?25l   \u001b[90m━━━━━━━━━━━━━━━━━━━━━━━━━━━━━━━━━━━━━━━━\u001b[0m \u001b[32m0.0/1.0 MB\u001b[0m \u001b[31m?\u001b[0m eta \u001b[36m-:--:--\u001b[0m\r\u001b[2K   \u001b[91m━━━━━━━━━━━━━━━━━━━━\u001b[0m\u001b[90m╺\u001b[0m\u001b[90m━━━━━━━━━━━━━━━━━━━\u001b[0m \u001b[32m0.5/1.0 MB\u001b[0m \u001b[31m17.2 MB/s\u001b[0m eta \u001b[36m0:00:01\u001b[0m\r\u001b[2K   \u001b[90m━━━━━━━━━━━━━━━━━━━━━━━━━━━━━━━━━━━━━━━━\u001b[0m \u001b[32m1.0/1.0 MB\u001b[0m \u001b[31m16.0 MB/s\u001b[0m eta \u001b[36m0:00:00\u001b[0m\n",
            "\u001b[2K   \u001b[90m━━━━━━━━━━━━━━━━━━━━━━━━━━━━━━━━━━━━━━━━\u001b[0m \u001b[32m661.2/661.2 kB\u001b[0m \u001b[31m38.3 MB/s\u001b[0m eta \u001b[36m0:00:00\u001b[0m\n",
            "\u001b[2K   \u001b[90m━━━━━━━━━━━━━━━━━━━━━━━━━━━━━━━━━━━━━━━━\u001b[0m \u001b[32m2.5/2.5 MB\u001b[0m \u001b[31m68.9 MB/s\u001b[0m eta \u001b[36m0:00:00\u001b[0m\n",
            "\u001b[2K   \u001b[90m━━━━━━━━━━━━━━━━━━━━━━━━━━━━━━━━━━━━━━━━\u001b[0m \u001b[32m434.1/434.1 kB\u001b[0m \u001b[31m28.7 MB/s\u001b[0m eta \u001b[36m0:00:00\u001b[0m\n",
            "\u001b[2K   \u001b[90m━━━━━━━━━━━━━━━━━━━━━━━━━━━━━━━━━━━━━━━━\u001b[0m \u001b[32m44.4/44.4 kB\u001b[0m \u001b[31m3.4 MB/s\u001b[0m eta \u001b[36m0:00:00\u001b[0m\n",
            "\u001b[2K   \u001b[90m━━━━━━━━━━━━━━━━━━━━━━━━━━━━━━━━━━━━━━━━\u001b[0m \u001b[32m50.9/50.9 kB\u001b[0m \u001b[31m3.8 MB/s\u001b[0m eta \u001b[36m0:00:00\u001b[0m\n",
            "\u001b[?25h"
          ]
        }
      ],
      "source": [
        "!pip install -qU  langchain openai langchain_community"
      ]
    },
    {
      "cell_type": "markdown",
      "source": [
        "- Imports"
      ],
      "metadata": {
        "id": "TDhxRRBYhQ7H"
      }
    },
    {
      "cell_type": "code",
      "source": [
        "import os # user-input API key\n",
        "import openai # gpt\n",
        "import langchain # for promtp template and few-shot\n",
        "# allows for roles and system messages unlike simple PromptTemplate and integrates with few-shot\n",
        "from langchain.prompts import (FewShotChatMessagePromptTemplate, ChatPromptTemplate, PromptTemplate)\n",
        "from langchain.schema import HumanMessage # seperate examples cleanly\n",
        "from getpass import getpass # for API key\n",
        "from langchain.chat_models import ChatOpenAI # to initialise model"
      ],
      "metadata": {
        "id": "iYndHkSngtEF"
      },
      "execution_count": 16,
      "outputs": []
    },
    {
      "cell_type": "markdown",
      "source": [
        "- Add OpenAI key as we will be making API calls"
      ],
      "metadata": {
        "id": "49pWqIBUhS8o"
      }
    },
    {
      "cell_type": "code",
      "source": [
        "# getOpenAI key\n",
        "os.environ['OPENAI_KEY'] = getpass('Enter your OpenAI API key: ')\n",
        "openai.api_key = os.getenv('OPENAI_KEY')"
      ],
      "metadata": {
        "colab": {
          "base_uri": "https://localhost:8080/"
        },
        "id": "LeF8_izhg-wP",
        "outputId": "c794bdaa-864c-43e7-f106-a97f6962b632"
      },
      "execution_count": 5,
      "outputs": [
        {
          "name": "stdout",
          "output_type": "stream",
          "text": [
            "Enter your OpenAI API key: ··········\n"
          ]
        }
      ]
    },
    {
      "cell_type": "markdown",
      "source": [
        "- Initialise OpenAI model"
      ],
      "metadata": {
        "id": "u8_FyhO7hXe2"
      }
    },
    {
      "cell_type": "code",
      "source": [
        "\n",
        "# Initialize OpenAI LLM with a temperature of 0.9 for randomness\n",
        "llm = ChatOpenAI(\n",
        "    model_name=\"gpt-4.1-nano\",\n",
        "    temperature=0.9,\n",
        "    openai_api_key=openai.api_key)"
      ],
      "metadata": {
        "colab": {
          "base_uri": "https://localhost:8080/"
        },
        "id": "SX-U8Wi3hj_b",
        "outputId": "6652bed2-492a-4fce-cd9b-4075f825cb24"
      },
      "execution_count": 41,
      "outputs": [
        {
          "output_type": "stream",
          "name": "stderr",
          "text": [
            "<ipython-input-41-fea0dd15e421>:2: LangChainDeprecationWarning: The class `ChatOpenAI` was deprecated in LangChain 0.0.10 and will be removed in 1.0. An updated version of the class exists in the :class:`~langchain-openai package and should be used instead. To use it run `pip install -U :class:`~langchain-openai` and import as `from :class:`~langchain_openai import ChatOpenAI``.\n",
            "  llm = ChatOpenAI(\n"
          ]
        }
      ]
    },
    {
      "cell_type": "markdown",
      "source": [
        "## Prompt Engineering"
      ],
      "metadata": {
        "id": "6Ji_yJappXwv"
      }
    },
    {
      "cell_type": "markdown",
      "source": [
        " - Give the model some examples of desired input output\n",
        "  - Long answer to improve it general language.\n",
        "  - Simple question about Ireland.\n",
        "  - Question dealing with Irish and English but staying in role."
      ],
      "metadata": {
        "id": "KP7DRuyHjQ4p"
      }
    },
    {
      "cell_type": "code",
      "source": [
        "examples = [\n",
        "# Long text to show contemporary Irish: https://www.dcu.ie/fiontarscoilnagaeilge/gairm-ar-phaipeir-teangeolaiocht-chorpais-i-dteangacha-na-heireann\n",
        "{\"question\": \"Write a call for paper submissions as if you were DCU looking for research paper summaries using their corpus\", \"answer\": \"\"\" Tá sé i gceist ag Gaois, Fiontar & Scoil na Gaeilge, DCU, i gcomhpháirt le CLARIN, comhdháil agus ceardlann ar an teangeolaíocht chorpais a reáchtáil ar an 13-14 Samhain 2025. Beidh Corpas Náisiúnta na Gaeilge bliain ar an bhfód faoin am sin agus beidh sé tráthúil taighde bunaithe ar an acmhainn nua sin a phlé.\n",
        "\n",
        "Fáilteofar roimh pháipéir acadúla nó póstaeir, agus roimh mholtaí ceardlainne, a théann i ngleic le cur chuige, le huirlisí agus le cur i bhfeidhm na teangeolaíochta corpais i gcomhthéacs theangacha na hÉireann. Glacfar le haighneachtaí i nGaeilge nó i mBéarla. Cuirfear fáilte ar leith roimh aighneachtaí ó mhic léinn iarchéime agus taighdeoirí luath-ghairme; reáchtálfar seisiún ar leith don ghrúpa seo le deiseanna gréasánaithe a éascú agus le haiseolas a sholáthar, de réir mar is cuí.\n",
        "\n",
        "Is iad seo a leanas saintopaicí na teangeolaíochta corpais a chíorfar ag an ócáid seo:\n",
        "\n",
        "Modheolaíochtaí agus uirlisí\n",
        "\n",
        "Dearadh agus tiomsú corpais\n",
        "Bailiú agus próiseáil sonraí corpais\n",
        "Uirlis nua nó úsáid nua a baineadh as uirlis\n",
        "Teicnící nua anailíse\n",
        "Meastóireacht chriticiúil ar uirlisí, teicnící agus teoiricí atá ann cheana\n",
        "Féidearthachtaí na hintleachta saorga\n",
        "Gnéithe praiticiúla a bhaineann le mionteangacha\n",
        "Cur i bhfeidhm\n",
        "\n",
        "An fhóineolaíocht, an mhoirfeolaíocht agus an chanúineolaíocht\n",
        "An fhoclóireacht agus an téarmeolaíocht\n",
        "Sealbhú, teagasc agus measúnú teanga\n",
        "An stílíocht agus léann na litríochta\n",
        "Staidéar na meán, téacsanna stairiúla, ábhar oideachais, agus seánraí sainiúla eile\n",
        "An fhrásaíocht\n",
        "An anailís dioscúrsa\n",
        "Léann an aistriúcháin\n",
        "An tsochtheangeolaíocht agus an t-athrú teanga\n",
        "Seánraí, réimsí agus teangacha sainfheidhme\n",
        "Seol achoimre páipéir nó ceardlainne 300 focal chuig gaois@dcu.ie faoin Aoine 30 Bealtaine. Déanfar piarmheasúnú ar na hachoimrí agus seolfar freagra chuig na húdair faoin Aoine 27 Meitheamh.\"\"\" },\n",
        "# Simple question with shorter answer\n",
        "{\"question\": \"Cad é príomhchathair na hÉireann?\", \"answer\": \"Is é Baile Átha Cliath príomhchathair na hÉireann.\"},\n",
        "# dealing with Irish and Enlgish but staying in Irish\n",
        "{\"question\": \"Translate Bhain mé sult as\", \"answer\": \"Ciallaíonn 'Bhain mé sult as' 'I enjoyed it' i mBéarla.\"}\n",
        "]"
      ],
      "metadata": {
        "id": "KgnQeWIpjfID"
      },
      "execution_count": 35,
      "outputs": []
    },
    {
      "cell_type": "markdown",
      "source": [
        "-"
      ],
      "metadata": {
        "id": "gbZ4h15CqSQH"
      }
    },
    {
      "cell_type": "markdown",
      "source": [
        "- formatting for individual examples"
      ],
      "metadata": {
        "id": "LeycqjPrsOOd"
      }
    },
    {
      "cell_type": "code",
      "source": [
        "example_prompt = ChatPromptTemplate.from_messages(\n",
        "[('human', '{question}?'), ('ai', '{answer}\\n')]\n",
        ")"
      ],
      "metadata": {
        "id": "hvClQWHmsQV3"
      },
      "execution_count": 36,
      "outputs": []
    },
    {
      "cell_type": "markdown",
      "source": [
        "- Formatting for multiple examples."
      ],
      "metadata": {
        "id": "_5-EIEbkqoca"
      }
    },
    {
      "cell_type": "code",
      "source": [
        "few_shot_prompt = FewShotChatMessagePromptTemplate(\n",
        "    examples=examples,\n",
        "    example_prompt=example_prompt,\n",
        ")"
      ],
      "metadata": {
        "id": "XURHiK_NqDzl"
      },
      "execution_count": 37,
      "outputs": []
    },
    {
      "cell_type": "markdown",
      "source": [
        "- Turn our model into a helpful monolingual Irish speaker!"
      ],
      "metadata": {
        "id": "104KpXm6h-Yi"
      }
    },
    {
      "cell_type": "code",
      "source": [
        "full_prompt = ChatPromptTemplate.from_messages([\n",
        "  (\"system\", \"you are a monolingual Irish chatbot, your job is to respond to the users questions in Irish (Gaeilge)\"),\n",
        "  few_shot_prompt,\n",
        "  (\"human\", \"{question}\"),\n",
        "])\n"
      ],
      "metadata": {
        "id": "MfBbSHSOiBuf"
      },
      "execution_count": 49,
      "outputs": []
    },
    {
      "cell_type": "markdown",
      "source": [
        "## Test model with fewshot"
      ],
      "metadata": {
        "id": "GKJdvYAhtgxc"
      }
    },
    {
      "cell_type": "code",
      "source": [
        "chain_few_shot = full_prompt | llm"
      ],
      "metadata": {
        "id": "iopEU3tDofJ3"
      },
      "execution_count": 50,
      "outputs": []
    },
    {
      "cell_type": "code",
      "source": [
        "response = chain_few_shot.invoke({\"question\": \"Tell me a short story\"})\n",
        "print(response.content)"
      ],
      "metadata": {
        "colab": {
          "base_uri": "https://localhost:8080/"
        },
        "id": "AcOXiTf8wKpV",
        "outputId": "11f4979f-8afd-4860-ad2f-c310cabcc11c"
      },
      "execution_count": 52,
      "outputs": [
        {
          "output_type": "stream",
          "name": "stdout",
          "text": [
            "Scéal gonta is ea seo:\n",
            "\n",
            "Bhí buachaill óg darb ainm Pádraig, a chónaigh i mbaile beag in Éirinn. Lá amháin, tháinig madra mór, cairdiúil, chuig a theach. Bhí Pádraig an-tógtha leis an madra agus thagair sé leis go tapa. Thóg sé an madra abhaile agus thug sé aire dó go maith. Ó shin i leith, bhí siad ina gcara is ina gcara, ag spraoi agus ag foghlaim le chéile gach lá. Bhí saol simplí, ach lán le grá agus cairdeas.\n"
          ]
        }
      ]
    },
    {
      "cell_type": "markdown",
      "source": [
        "- Funny QA:\n",
        "  - **System**: You are a monolingual Irish chatbot. Respond only in Irish.\n",
        "  - **Q**: What's the capital of America\n",
        "  - **A**: Tá brón orm, ach níl mé in ann freagra a thabhairt ar an gceist sin mar tá mé monolingual Gaeilge."
      ],
      "metadata": {
        "id": "Yfp_g5Q0wTpD"
      }
    },
    {
      "cell_type": "markdown",
      "source": [
        "- **Fixed by updating system message**\n",
        "  - -> you are a monolingual Irish chatbot, your job is to respond to the users questions in Irish (Gaeilge)"
      ],
      "metadata": {
        "id": "D1V-HaWHw9-0"
      }
    },
    {
      "cell_type": "markdown",
      "source": [
        "## Comparison with GPT-4o: \"Tell me a short story\""
      ],
      "metadata": {
        "id": "AhKVrDkgxX6w"
      }
    },
    {
      "cell_type": "markdown",
      "source": [
        "### GPT-4.1 nano without few-shot"
      ],
      "metadata": {
        "id": "-gXQ_Iie5otR"
      }
    },
    {
      "cell_type": "markdown",
      "source": [
        "- same system message but no examples"
      ],
      "metadata": {
        "id": "lYfrmUs55_6T"
      }
    },
    {
      "cell_type": "code",
      "source": [
        "zero_shot_prompt = ChatPromptTemplate.from_messages([\n",
        "       (\"system\", \"you are a monolingual Irish chatbot, your job is to respond to the users questions in Irish (Gaeilge)\"),\n",
        "       (\"human\", \"{question}\"),\n",
        "   ])"
      ],
      "metadata": {
        "id": "rr8gNio45uy3"
      },
      "execution_count": 53,
      "outputs": []
    },
    {
      "cell_type": "code",
      "source": [
        "chain_zero_shot = zero_shot_prompt | llm"
      ],
      "metadata": {
        "id": "iaJF5oo66Ip9"
      },
      "execution_count": 54,
      "outputs": []
    },
    {
      "cell_type": "code",
      "source": [
        "response_0 = chain_zero_shot.invoke({\"question\": \"Tell me a short story\"})\n",
        "print(response_0.content)"
      ],
      "metadata": {
        "colab": {
          "base_uri": "https://localhost:8080/"
        },
        "id": "lI6aHfcZ6MVx",
        "outputId": "93c39c2f-ee54-4bc0-c890-774fd9263990"
      },
      "execution_count": 55,
      "outputs": [
        {
          "output_type": "stream",
          "name": "stdout",
          "text": [
            "Bhíos i mbaile beag in Éirinn, agus tháinig madra nua abhaile le mo chara. Bhí sé gleoite agus leaidín beag dearg. Laistigh de lá, bhí sé ina chara de gach duine sa bhaile. Tháinig an madra, dar cuant, \"Léo,\" agus d'fhág sé gach duine sona sásta leis an bhfíor-chroí a bhí aige. Is cuimhin liom an lá sin go maith mar gheall ar an gceol agus an gáire a tháinig leis.\n"
          ]
        }
      ]
    },
    {
      "cell_type": "markdown",
      "source": [
        "- **Response:**\n",
        "\n",
        "> Bhíos i mbaile beag in Éirinn, agus tháinig madra nua abhaile le mo chara. Bhí sé gleoite agus leaidín beag dearg. Laistigh de lá, bhí sé ina chara de gach duine sa bhaile. Tháinig an madra, dar cuant, \"Léo,\" agus d'fhág sé gach duine sona sásta leis an bhfíor-chroí a bhí aige. Is cuimhin liom an lá sin go maith mar gheall ar an gceol agus an gáire a tháinig leis.\n",
        "\n",
        "- **English Translation**\n",
        "\n",
        "> I was in a small town in Ireland, and a new dog came home with my friend. He was cute and a little red pup. Within a day, he had become a friend to everyone in the town. The dog, called (it is said) \"Leo,\" made everyone happy with the true heart he had. I remember that day well because of the music and the laughter that came with it.\n",
        "\n",
        "- **Comments:**\n",
        "  - Use of \"Bhíos\", while correct, is not standard\n",
        "  ??\n",
        "  - dar cuant? darb ainm maybe, *dar cuenta* is spanish for notice, report etc maybe mixed up, but doesn't fit this context\n",
        "  \n",
        "\n",
        "\n",
        "\n"
      ],
      "metadata": {
        "id": "rmHfZhut6bdN"
      }
    },
    {
      "cell_type": "markdown",
      "source": [
        "### GPT-4.1 nano with few-shot"
      ],
      "metadata": {
        "id": "hknpKy2jxcR9"
      }
    },
    {
      "cell_type": "markdown",
      "source": [
        "- **Response**\n",
        "\n",
        "> Scéal gonta is ea seo:\n",
        "\n",
        ">Bhí buachaill óg darb ainm Pádraig, a chónaigh i mbaile beag in Éirinn. Lá amháin, tháinig madra mór, cairdiúil, chuig a theach. Bhí Pádraig an-tógtha leis an madra agus thagair sé leis go tapa. Thóg sé an madra abhaile agus thug sé aire dó go maith. Ó shin i leith, bhí siad ina gcara is ina gcara, ag spraoi agus ag foghlaim le chéile gach lá. Bhí saol simplí, ach lán le grá agus cairdeas.\n",
        "\n",
        "- **English tranlation:**\n",
        "\n",
        "> This is a short story:\n",
        "\n",
        "> There was a young boy named Pádraig who lived in a small town in Ireland. One day, a big, friendly dog came to his house. Pádraig was very taken with the dog and quickly grew fond of him. He brought the dog home and looked after him well. From that day on, they were the best of friends, playing and learning together every day. It was a simple life, but one full of love and friendship.\n",
        "\n",
        "- **Comments**\n",
        " - Incorrect use of *tagair le*,\n",
        "    - Sentence: \"Bhí Pádraig an-tógtha leis an madra agus thagair sé leis go tapa.\".\n",
        "    - Source: https://www.teanglann.ie/en/fgb/tagair\n",
        "    - Explanation: Instead, should be \"Cheangail sé leis...\" or \"Chuir sé in aithne ar...\"\n",
        "\n",
        "- A chonaigh... ? Should be \"a bhí ina chonaí\"\n",
        "  - Bhí buachaill óg darb ainm Pádraig, a chónaigh i mbaile beag in Éirinn\n",
        "- Good use of \"aire a thabhairt do...\"\n",
        "-  bhí siad ina gcara is ina gcara?\n",
        "- Bhi saol simplí (acu?)\n"
      ],
      "metadata": {
        "id": "YFgs7688xv0Q"
      }
    },
    {
      "cell_type": "markdown",
      "source": [
        "### Chat-GPT 4.5"
      ],
      "metadata": {
        "id": "eYIQcf-701l3"
      }
    },
    {
      "cell_type": "markdown",
      "source": [
        "- **Response**\n",
        "\n",
        ">Bhí fear óg darb ainm Liam ina chónaí cois farraige. Gach maidin, shiúladh sé ar an trá agus bhailíodh sé sliogáin álainn. Lá amháin, tháinig sé ar sheanbhuidéal ina luí sa ghaineamh. D’oscail sé é agus tháinig deatach glas amach. Dúirt guth mistéireach, “Tá trí mhianta agat anois!” Bhí iontas an domhain ar Liam, ach sin scéal eile...\n",
        "\n",
        "- **English translation:**\n",
        "\n",
        ">There was a young man named Liam who lived by the sea. Every morning, he would walk on the beach and collect beautiful shells. One day, he came across an old bottle lying in the sand. He opened it, and green smoke came out. A mysterious voice said, “You now have three wishes!” Liam was utterly astonished — but that’s another story...\n",
        "\n",
        "- **Comments**\n",
        "  - Good use of habitual past\n",
        "  - doesn't follow the expexted beginning, middle, end"
      ],
      "metadata": {
        "id": "5fcDK_nX38OH"
      }
    },
    {
      "cell_type": "markdown",
      "source": [
        "## **Conclusion**"
      ],
      "metadata": {
        "id": "vIJ_xPdQ9AQm"
      }
    },
    {
      "cell_type": "markdown",
      "source": [
        "- Need to consult native speakers\n",
        "- GPT 4.5 seems to have more sophisticated Irish and doesn't make grammatical errors (as far as I can see).\n",
        "- The few-shot model seemed to structure the story a bit better than the zero-shot model but both made seriouos errors.\n",
        "  - Zero shot: Thagair used incorrectly\n",
        "  - Few-shot: dar cuant, the model speaking gibberish (I think).\n",
        "- So the biggest model performs the best but maybe few-shot improves the smaller models structuring?\n",
        "- maybe should have used more task specific prompts"
      ],
      "metadata": {
        "id": "uaICHIrp9f0u"
      }
    },
    {
      "cell_type": "code",
      "source": [],
      "metadata": {
        "id": "nla9iySQBU0P"
      },
      "execution_count": null,
      "outputs": []
    }
  ]
}